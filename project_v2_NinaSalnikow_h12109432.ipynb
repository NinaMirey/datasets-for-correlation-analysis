{
 "cells": [
  {
   "cell_type": "markdown",
   "id": "823273a1-4b27-41c7-a64a-e297daf69514",
   "metadata": {},
   "source": [
    "<h1> Introduction </h1>\n",
    "\n",
    "<div class=\"alert alert-info\">\n",
    "  <strong>In a previous project, I employed Pearson correlation to investigated the relationship between broadband internet speed and internet usage and GDP per country. Rather than stopping at simple correlation, I now shift toward a hypothesis-driven regression analysis to test a directional claim, but only for the internet usage part. The data comes from the website Kaggle. \n",
    "    </strong>\n",
    "</div>\n",
    "\n",
    "## Outline\n",
    "\n",
    "<div class=\"alert alert-success\">\n",
    "  <strong>   \n",
    "  <ol>\n",
    "      <li>Importing the packages/datasets</li>\n",
    "      <li>Regression Analysis</li>\n",
    "      <li>Results</li>\n",
    "  </ol>\n",
    "  </strong>\n",
    "</div>\n",
    "\n",
    "### 1. Importing the packages/datasets"
   ]
  },
  {
   "cell_type": "code",
   "execution_count": 1,
   "id": "76811758-3878-48ea-a6fe-9acb7b981934",
   "metadata": {},
   "outputs": [],
   "source": [
    "import requests\n",
    "import pandas as pd\n",
    "import statsmodels.api as sm\n",
    "import matplotlib.pyplot as plt"
   ]
  },
  {
   "cell_type": "markdown",
   "id": "da432d98-1c95-4e02-8e4d-fb672a8252c9",
   "metadata": {},
   "source": [
    "<blockquote>\n",
    "    Here I am loading the data from my Github repo using the request module, since I could not find an API for the datasets on Kaggle.\n",
    "</blockquote>"
   ]
  },
  {
   "cell_type": "code",
   "execution_count": 2,
   "id": "718357e5-dabf-421c-9188-0dee81e9f1e3",
   "metadata": {},
   "outputs": [
    {
     "data": {
      "text/html": [
       "<div>\n",
       "<style scoped>\n",
       "    .dataframe tbody tr th:only-of-type {\n",
       "        vertical-align: middle;\n",
       "    }\n",
       "\n",
       "    .dataframe tbody tr th {\n",
       "        vertical-align: top;\n",
       "    }\n",
       "\n",
       "    .dataframe thead th {\n",
       "        text-align: right;\n",
       "    }\n",
       "</style>\n",
       "<table border=\"1\" class=\"dataframe\">\n",
       "  <thead>\n",
       "    <tr style=\"text-align: right;\">\n",
       "      <th></th>\n",
       "      <th>country</th>\n",
       "      <th>avgBroadbandMbps</th>\n",
       "      <th>internetUsers</th>\n",
       "      <th>population</th>\n",
       "      <th>userPercent</th>\n",
       "      <th>gdpPerCapUsd</th>\n",
       "    </tr>\n",
       "  </thead>\n",
       "  <tbody>\n",
       "    <tr>\n",
       "      <th>0</th>\n",
       "      <td>Monaco</td>\n",
       "      <td>192.68</td>\n",
       "      <td>37553</td>\n",
       "      <td>38695</td>\n",
       "      <td>97.05%</td>\n",
       "      <td>190513.0</td>\n",
       "    </tr>\n",
       "    <tr>\n",
       "      <th>1</th>\n",
       "      <td>Singapore</td>\n",
       "      <td>192.01</td>\n",
       "      <td>4821119</td>\n",
       "      <td>5708844</td>\n",
       "      <td>84.45%</td>\n",
       "      <td>79576.0</td>\n",
       "    </tr>\n",
       "    <tr>\n",
       "      <th>2</th>\n",
       "      <td>Chile</td>\n",
       "      <td>189.36</td>\n",
       "      <td>14864456</td>\n",
       "      <td>18054726</td>\n",
       "      <td>82.33%</td>\n",
       "      <td>15941.0</td>\n",
       "    </tr>\n",
       "    <tr>\n",
       "      <th>3</th>\n",
       "      <td>Thailand</td>\n",
       "      <td>184.03</td>\n",
       "      <td>36513941</td>\n",
       "      <td>69037513</td>\n",
       "      <td>52.89%</td>\n",
       "      <td>7631.0</td>\n",
       "    </tr>\n",
       "    <tr>\n",
       "      <th>4</th>\n",
       "      <td>Denmark</td>\n",
       "      <td>163.60</td>\n",
       "      <td>5567278</td>\n",
       "      <td>5733551</td>\n",
       "      <td>97.10%</td>\n",
       "      <td>68094.0</td>\n",
       "    </tr>\n",
       "    <tr>\n",
       "      <th>...</th>\n",
       "      <td>...</td>\n",
       "      <td>...</td>\n",
       "      <td>...</td>\n",
       "      <td>...</td>\n",
       "      <td>...</td>\n",
       "      <td>...</td>\n",
       "    </tr>\n",
       "    <tr>\n",
       "      <th>162</th>\n",
       "      <td>Yemen</td>\n",
       "      <td>2.74</td>\n",
       "      <td>7548512</td>\n",
       "      <td>28250420</td>\n",
       "      <td>26.72%</td>\n",
       "      <td>891.0</td>\n",
       "    </tr>\n",
       "    <tr>\n",
       "      <th>163</th>\n",
       "      <td>Ethiopia</td>\n",
       "      <td>2.69</td>\n",
       "      <td>19543075</td>\n",
       "      <td>104957438</td>\n",
       "      <td>18.62%</td>\n",
       "      <td>1040.0</td>\n",
       "    </tr>\n",
       "    <tr>\n",
       "      <th>164</th>\n",
       "      <td>Cuba</td>\n",
       "      <td>1.90</td>\n",
       "      <td>5638956</td>\n",
       "      <td>11484636</td>\n",
       "      <td>49.10%</td>\n",
       "      <td>9478.0</td>\n",
       "    </tr>\n",
       "    <tr>\n",
       "      <th>165</th>\n",
       "      <td>Turkmenistan</td>\n",
       "      <td>1.89</td>\n",
       "      <td>1223591</td>\n",
       "      <td>5758075</td>\n",
       "      <td>21.25%</td>\n",
       "      <td>7411.0</td>\n",
       "    </tr>\n",
       "    <tr>\n",
       "      <th>166</th>\n",
       "      <td>Afghanistan</td>\n",
       "      <td>1.62</td>\n",
       "      <td>4068194</td>\n",
       "      <td>35530081</td>\n",
       "      <td>11.45%</td>\n",
       "      <td>493.0</td>\n",
       "    </tr>\n",
       "  </tbody>\n",
       "</table>\n",
       "<p>167 rows × 6 columns</p>\n",
       "</div>"
      ],
      "text/plain": [
       "          country  avgBroadbandMbps  internetUsers  population userPercent  \\\n",
       "0          Monaco            192.68          37553       38695      97.05%   \n",
       "1       Singapore            192.01        4821119     5708844      84.45%   \n",
       "2           Chile            189.36       14864456    18054726      82.33%   \n",
       "3        Thailand            184.03       36513941    69037513      52.89%   \n",
       "4         Denmark            163.60        5567278     5733551      97.10%   \n",
       "..            ...               ...            ...         ...         ...   \n",
       "162         Yemen              2.74        7548512    28250420      26.72%   \n",
       "163      Ethiopia              2.69       19543075   104957438      18.62%   \n",
       "164          Cuba              1.90        5638956    11484636      49.10%   \n",
       "165  Turkmenistan              1.89        1223591     5758075      21.25%   \n",
       "166   Afghanistan              1.62        4068194    35530081      11.45%   \n",
       "\n",
       "     gdpPerCapUsd  \n",
       "0        190513.0  \n",
       "1         79576.0  \n",
       "2         15941.0  \n",
       "3          7631.0  \n",
       "4         68094.0  \n",
       "..            ...  \n",
       "162         891.0  \n",
       "163        1040.0  \n",
       "164        9478.0  \n",
       "165        7411.0  \n",
       "166         493.0  \n",
       "\n",
       "[167 rows x 6 columns]"
      ]
     },
     "execution_count": 2,
     "metadata": {},
     "output_type": "execute_result"
    }
   ],
   "source": [
    "r = requests.get('https://raw.githubusercontent.com/NinaMirey/datasets-for-correlation-analysis/main/internetData_with_gdp.csv')\n",
    "f = open('internetData_with_gdp.csv', 'wb')\n",
    "f.write(r.content)\n",
    "f.close()\n",
    "df = pd.read_csv(\"internetData_with_gdp.csv\")\n",
    "df"
   ]
  },
  {
   "cell_type": "markdown",
   "id": "f7c9ad2c-5966-44e7-83a3-27eee3a0eb05",
   "metadata": {},
   "source": [
    "#### Overview of interesting data:\n",
    "\n",
    "<blockquote>\n",
    "<b>Country:</b> Which country is this?<br>\n",
    "<b>AvgBroadbandMbps:</b> Average bandwidth speed<br>\n",
    "<b>UserPercent:</b> What percentage of internet users does each country have?<br>\n",
    "<b>Gpd:</b> What is the country's GDP?<br>\n",
    "</blockquote>"
   ]
  },
  {
   "cell_type": "markdown",
   "id": "a509d6c5-dc62-450b-aa45-3f9d3653b4cd",
   "metadata": {},
   "source": [
    "## Q1: Directional hypothesis and tests"
   ]
  },
  {
   "cell_type": "markdown",
   "id": "396781f5-310d-4fa8-b0c3-5ad6ac07fe17",
   "metadata": {},
   "source": [
    "#### Hypothesis:\n",
    "\n",
    "<blockquote>\n",
    "    <b>H1:</b> Countries with higher internet user percentages have higher GDPs.<br>\n",
    "    <b>H0:</b> There is no positive relationship between internet usage and GDP.<br>\n",
    "    <br>\n",
    "    Based on economic development theory, better access to technology (e.g., internet) is expected to foster productivity and GDP growth.<br>\n",
    "    No theoretical reason to expect higher internet usage to lower GDP.<br>\n",
    "</blockquote>"
   ]
  },
  {
   "cell_type": "code",
   "execution_count": 3,
   "id": "913a12f2-3eba-4e91-b16a-e846bc080daf",
   "metadata": {},
   "outputs": [
    {
     "name": "stdout",
     "output_type": "stream",
     "text": [
      "Coefficient (β1): 677.63\n",
      "Standard Error: 64.78\n",
      "T-statistic: 10.46\n",
      "Two-sided p-value: 7.69e-20\n",
      "One-sided p-value: 3.85e-20\n",
      "95% Confidence Interval: [549.70, 805.56]\n"
     ]
    }
   ],
   "source": [
    "#clean data\n",
    "df['userPercent'] = df['userPercent'].str.replace('%', '').astype(float)\n",
    "df= df.dropna(subset=['gdpPerCapUsd', 'userPercent'])\n",
    "\n",
    "#define X and y\n",
    "X= sm.add_constant(df['userPercent'])\n",
    "y= df['gdpPerCapUsd']\n",
    "model=sm.OLS(y, X).fit()\n",
    "\n",
    "#extract regression results\n",
    "coef = model.params['userPercent']\n",
    "se = model.bse['userPercent']\n",
    "t_value = model.tvalues['userPercent']\n",
    "p_two_sided = model.pvalues['userPercent']\n",
    "p_one_sided = p_two_sided / 2 if coef > 0 else 1 - (p_two_sided / 2)\n",
    "ci_95 = model.conf_int().loc['userPercent']\n",
    "\n",
    "#display\n",
    "print(f\"Coefficient (β1): {coef:.2f}\")\n",
    "print(f\"Standard Error: {se:.2f}\")\n",
    "print(f\"T-statistic: {t_value:.2f}\")\n",
    "print(f\"Two-sided p-value: {p_two_sided:.2e}\")\n",
    "print(f\"One-sided p-value: {p_one_sided:.2e}\")\n",
    "print(f\"95% Confidence Interval: [{ci_95[0]:.2f}, {ci_95[1]:.2f}]\")"
   ]
  },
  {
   "cell_type": "code",
   "execution_count": 4,
   "id": "efd84abc-35a6-4eb3-9b04-a9edb7238f6a",
   "metadata": {},
   "outputs": [
    {
     "data": {
      "image/png": "[encoded data removed]",
      "text/plain": [
       "<Figure size 640x480 with 1 Axes>"
      ]
     },
     "metadata": {},
     "output_type": "display_data"
    }
   ],
   "source": [
    "#scatterplot for viz\n",
    "plt.scatter(df['userPercent'], df['gdpPerCapUsd'], alpha=0.6, label='Data')\n",
    "plt.plot(df['userPercent'], model.predict(X), color='red', label='OLS Fit')\n",
    "plt.xlabel('Internet Users (% of Population)')\n",
    "plt.ylabel('GDP per Capita (USD)')\n",
    "plt.title('Internet Usage vs GDP per Capita')\n",
    "plt.legend()\n",
    "plt.grid(True)\n",
    "plt.show()"
   ]
  },
  {
   "cell_type": "markdown",
   "id": "c09d6540-4897-410a-901f-a66c92d8e557",
   "metadata": {},
   "source": [
    "## 3. Results"
   ]
  },
  {
   "cell_type": "markdown",
   "id": "a3c6ed7c-1f59-4e0a-899c-4777e4dedf45",
   "metadata": {},
   "source": [
    "**Hypothesis**: Countries with higher internet usage (as % of population) have higher GDP per capita.\n",
    "\n",
    "**Regression Coefficient (userPercent → gdpPerCapUsd):**\n",
    "+677.63 — For each 1% increase in internet usage, GDP per capita increases by approximately $678.\n",
    "\n",
    "**Two-sided p-value:** 7.69 × 10⁻²⁰  \n",
    "**One-sided p-value:** 3.85 × 10⁻²⁰\n",
    "\n",
    "**95% Confidence Interval (two-sided):** [549.70, 805.56]\n"
   ]
  },
  {
   "cell_type": "markdown",
   "id": "67577a9f-5554-44d1-a222-8b9c4243131c",
   "metadata": {},
   "source": [
    "<div class=\"alert alert-success\"> \n",
    "\n",
    "**Conclusion:**\n",
    "- The effect is **positive** and **statistically significant**.\n",
    "- The one-sided test confirms the same conclusion but with **greater power**.\n",
    "- The relationship supports the directional hypothesis that more internet usage is associated with higher GDP.\n",
    "\n",
    "</div>"
   ]
  }
 ],
 "metadata": {
  "kernelspec": {
   "display_name": "Python 3 (ipykernel)",
   "language": "python",
   "name": "python3"
  },
  "language_info": {
   "codemirror_mode": {
    "name": "ipython",
    "version": 3
   },
   "file_extension": ".py",
   "mimetype": "text/x-python",
   "name": "python",
   "nbconvert_exporter": "python",
   "pygments_lexer": "ipython3",
   "version": "3.12.3"
  }
 },
 "nbformat": 4,
 "nbformat_minor": 5
}
